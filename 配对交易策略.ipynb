
<!DOCTYPE HTML>
<html>

<head>
    <meta charset="utf-8">

    <title>Jupyter Notebook</title>
    <link id="favicon" rel="shortcut icon" type="image/x-icon" href="https://cdn.joinquant.com/research/static/base/images/favicon-notebook.ico?v=9e5fb7f8501d94094806320e718be6b3">
    <meta http-equiv="X-UA-Compatible" content="IE=edge" />
    <link rel="stylesheet" href="https://cdn.joinquant.com/research/static/components/jquery-ui/themes/smoothness/jquery-ui.min.css?v=9b2c8d3489227115310662a343fce11c" type="text/css" />
    <link rel="stylesheet" href="https://cdn.joinquant.com/research/static/components/jquery-typeahead/dist/jquery.typeahead.min.css?v=7afb461de36accb1aa133a1710f5bc56" type="text/css" />
    <meta name="viewport" content="width=device-width, initial-scale=1.0">
    
    


<script type="text/javascript" src="https://cdn.joinquant.com/research/static/components/MathJax/MathJax.js?config=TeX-AMS-MML_HTMLorMML-full,Safe&delayStartupUntil=configured" charset="utf-8"></script>

<script type="text/javascript">
// MathJax disabled, set as null to distingish from *missing* MathJax,
// where it will be undefined, and should prompt a dialog later.
window.mathjax_url = "https://cdn.joinquant.com/research/static/components/MathJax/MathJax.js";
</script>

<link rel="stylesheet" href="https://cdn.joinquant.com/research/static/components/bootstrap-tour/build/css/bootstrap-tour.min.css?v=d0b3c2fce6056a2ddd5a4513762a94c4" type="text/css" />
<link rel="stylesheet" href="https://cdn.joinquant.com/research/static/components/codemirror/lib/codemirror.css?v=ae81317fa2b3a745892c83985827d41b">


    <link rel="stylesheet" href="https://cdn.joinquant.com/research/static/style/style.min.css?v=47782e517c98a53adb514cbefb4528f2" type="text/css"/>
    

<link rel="stylesheet" href="https://cdn.joinquant.com/research/static/notebook/css/override.css?v=e6f18013b8771987812e992b38ec3318" type="text/css" />
<link rel="stylesheet" href=""  id='kernel-css'                             type="text/css" />


    <link rel="stylesheet" href="/user/58871161842/custom/custom.css" type="text/css" />
    <script src="https://cdn.joinquant.com/research/static/components/es6-promise/promise.min.js?v=f004a16cb856e0ff11781d01ec5ca8fe" type="text/javascript" charset="utf-8"></script>
    <script src="https://cdn.joinquant.com/research/static/components/preact/index.js?v=00a2fac73c670ce39ac53d26640eb542" type="text/javascript"></script>
    <script src="https://cdn.joinquant.com/research/static/components/proptypes/index.js?v=c40890eb04df9811fcc4d47e53a29604" type="text/javascript"></script>
    <script src="https://cdn.joinquant.com/research/static/components/preact-compat/index.js?v=e88089d5b9ae96629d5b296428cbaed0" type="text/javascript"></script>
    <script src="https://cdn.joinquant.com/research/static/components/requirejs/require.js?v=6da8be361b9ee26c5e721e76c6d4afce" type="text/javascript" charset="utf-8"></script>
    <script>
      require.config({
          
          urlArgs: "v=20181207155117",
          
          baseUrl: 'https://cdn.joinquant.com/research/static/',
          paths: {
            'auth/js/main': 'auth/js/main.min',
            custom : '/user/58871161842/custom',
            nbextensions : '/user/58871161842/nbextensions',
            kernelspecs : '/user/58871161842/kernelspecs',
            underscore : 'components/underscore/underscore-min',
            backbone : 'components/backbone/backbone-min',
            jed: 'components/jed/jed',
            jquery: 'components/jquery/jquery.min',
            json: 'components/requirejs-plugins/src/json',
            text: 'components/requirejs-text/text',
            bootstrap: 'components/bootstrap/js/bootstrap.min',
            bootstraptour: 'components/bootstrap-tour/build/js/bootstrap-tour.min',
            'jquery-ui': 'components/jquery-ui/ui/minified/jquery-ui.min',
            moment: 'components/moment/min/moment-with-locales',
            codemirror: 'components/codemirror',
            termjs: 'components/xterm.js/dist/xterm',
            typeahead: 'components/jquery-typeahead/dist/jquery.typeahead.min',
          },
          map: { // for backward compatibility
              "*": {
                  "jqueryui": "jquery-ui",
              }
          },
          shim: {
            typeahead: {
              deps: ["jquery"],
              exports: "typeahead"
            },
            underscore: {
              exports: '_'
            },
            backbone: {
              deps: ["underscore", "jquery"],
              exports: "Backbone"
            },
            bootstrap: {
              deps: ["jquery"],
              exports: "bootstrap"
            },
            bootstraptour: {
              deps: ["bootstrap"],
              exports: "Tour"
            },
            "jquery-ui": {
              deps: ["jquery"],
              exports: "$"
            }
          },
          waitSeconds: 30,
      });

      require.config({
          map: {
              '*':{
                'contents': 'services/contents',
              }
          }
      });

      // error-catching custom.js shim.
      define("custom", function (require, exports, module) {
          try {
              var custom = require('custom/custom');
              console.debug('loaded custom.js');
              return custom;
          } catch (e) {
              console.error("error loading custom.js", e);
              return {};
          }
      })

    document.nbjs_translations = {"domain": "nbjs", "locale_data": {"nbjs": {"": {"domain": "nbjs"}, "Manually edit the JSON below to manipulate the metadata for this cell.": ["\u624b\u52a8\u7f16\u8f91\u4e0b\u9762\u7684JSON\u4ee3\u7801\u6765\u4fee\u6539\u5355\u5143\u683c\u5143\u6570\u636e."], "Manually edit the JSON below to manipulate the metadata for this notebook.": ["\u624b\u52a8\u7f16\u8f91\u4e0b\u9762\u7684JSON\u4ee3\u7801\u6765\u4fee\u6539notebook\u5143\u6570\u636e."], " We recommend putting custom metadata attributes in an appropriately named substructure, so they don't conflict with those of others.": ["\u6211\u4eec\u5efa\u8bae\u60a8\u5c06\u81ea\u5b9a\u4e49\u7684\u5143\u6570\u636e\u5c5e\u6027\u653e\u5165\u9002\u5f53\u7684\u5b50\u7ed3\u6784\u4e2d\uff0c\u8fd9\u6837\u5c31\u4e0d\u4f1a\u4e0e\u5176\u4ed6\u7684\u5b50\u7ed3\u6784\u53d1\u751f\u51b2\u7a81."], "Edit the metadata": ["\u7f16\u8f91\u5143\u6570\u636e"], "Edit Notebook Metadata": ["\u7f16\u8f91notebook\u5143\u6570\u636e"], "Edit Cell Metadata": ["\u7f16\u8f91\u5355\u5143\u683c\u5143\u6570\u636e"], "Cancel": ["\u53d6\u6d88"], "Edit": ["\u7f16\u8f91"], "OK": ["\u786e\u5b9a"], "Apply": ["\u5e94\u7528"], "WARNING: Could not save invalid JSON.": ["\u8b66\u544a: \u65e0\u6cd5\u4fdd\u5b58\u65e0\u6548\u7684JSON."], "There are no attachments for this cell.": ["\u8be5\u5355\u5143\u683c\u6ca1\u6709\u9644\u4ef6."], "Current cell attachments": ["\u5f53\u524d\u5355\u5143\u683c\u9644\u4ef6"], "Attachments": ["\u9644\u4ef6"], "Restore": ["\u91cd\u65b0\u4fdd\u5b58"], "Delete": ["\u5220\u9664"], "Edit attachments": ["\u7f16\u8f91\u9644\u4ef6"], "Edit Notebook Attachments": ["\u7f16\u8f91notebook\u9644\u4ef6"], "Edit Cell Attachments": ["\u7f16\u8f91\u5355\u5143\u683c\u9644\u4ef6"], "Select a file to insert.": ["\u9009\u62e9\u8981\u63d2\u5165\u7684\u6587\u4ef6"], "Select a file": ["\u9009\u62e9\u6587\u4ef6"], "You are using Jupyter notebook.": ["\u60a8\u6b63\u5728\u4f7f\u7528Jupyter notebook."], "The version of the notebook server is: ": ["\u5f53\u524dnotebook\u7684\u7248\u672c\u662f\uff1a"], "The server is running on this version of Python:": ["\u4f7f\u7528python\u7248\u672c:"], "Waiting for kernel to be available...": ["\u6b63\u5728\u7b49\u5f85\u5185\u6838\u53ef\u7528..."], "Server Information:": ["\u670d\u52a1\u4fe1\u606f:"], "Current Kernel Information:": ["\u5f53\u524d\u5185\u6838\u4fe1\u606f:"], "Could not access sys_info variable for version information.": ["\u65e0\u6cd5\u8bbf\u95eesys_info\u53d8\u91cf\u4e2d\u7684\u7248\u672c\u4fe1\u606f."], "Cannot find sys_info!": ["\u672a\u627e\u5230sys_info!"], "About Jupyter Notebook": ["\u5173\u4e8e Jupyter Notebook"], "unable to contact kernel": ["\u65e0\u6cd5\u8fde\u63a5\u5230\u5185\u6838"], "toggle rtl layout": ["\u5f00/\u5173rtl\u5e03\u5c40"], "Toggle the screen directionality between left-to-right and right-to-left": ["\u5207\u6362\u5c4f\u5e55\u65b9\u5411(\u4ece\u5de6\u5230\u53f3\u6216\u4ece\u53f3\u5230\u5de6)"], "edit command mode keyboard shortcuts": ["\u7f16\u8f91\u547d\u4ee4\u6a21\u5f0f\u5feb\u6377\u952e"], "Open a dialog to edit the command mode keyboard shortcuts": ["\u6253\u5f00\u5feb\u6377\u952e\u7f16\u8f91\u4f1a\u8bdd"], "restart kernel": ["\u91cd\u542f\u5185\u6838"], "restart the kernel (no confirmation dialog)": ["\u91cd\u542f\u5185\u6838(\u663e\u793a\u786e\u8ba4\u5bf9\u8bdd\u6846)"], "confirm restart kernel": ["\u786e\u5b9a\u91cd\u542f\u5185\u6838"], "restart the kernel (with dialog)": ["\u91cd\u542f\u5185\u6838(\u663e\u793a\u786e\u8ba4\u5bf9\u8bdd\u6846)"], "restart kernel and run all cells": ["\u91cd\u542f\u5185\u6838\u5e76\u8fd0\u884c\u6240\u6709\u5355\u5143\u683c"], "restart the kernel, then re-run the whole notebook (no confirmation dialog)": ["\u91cd\u542f\u5185\u6838\u5e76\u8fd0\u884c\u6240\u6709\u5355\u5143\u683c(\u4e0d\u663e\u793a\u786e\u8ba4\u5bf9\u8bdd\u6846)"], "confirm restart kernel and run all cells": ["\u786e\u8ba4\u91cd\u542f\u5185\u6838\u5e76\u8fd0\u884c\u6240\u6709\u5355\u5143\u683c"], "restart the kernel, then re-run the whole notebook (with dialog)": ["\u91cd\u542f\u5185\u6838,\u7136\u540e\u91cd\u65b0\u8fd0\u884c\u6574\u4e2a\u4ee3\u7801(\u663e\u793a\u786e\u8ba4\u5bf9\u8bdd\u6846)"], "restart kernel and clear output": ["\u91cd\u542f\u5185\u6838\u5e76\u6e05\u7a7a\u8f93\u51fa"], "restart the kernel and clear all output (no confirmation dialog)": ["\u91cd\u542f\u5185\u6838\u5e76\u6e05\u7a7a\u6240\u6709\u8f93\u51fa(\u663e\u793a\u786e\u8ba4\u5bf9\u8bdd\u6846)"], "confirm restart kernel and clear output": ["\u786e\u8ba4\u91cd\u542f\u5185\u6838\u5e76\u6e05\u7a7a\u8f93\u51fa"], "restart the kernel and clear all output (with dialog)": ["\u91cd\u542f\u5185\u6838\u5e76\u6e05\u7a7a\u6240\u6709\u8f93\u51fa(\u663e\u793a\u786e\u8ba4\u5bf9\u8bdd\u6846)"], "interrupt the kernel": ["\u4e2d\u65ad\u5185\u6838"], "run cell and select next": ["\u8fd0\u884c\u5355\u5143\u683c\u5e76\u9009\u4e2d\u4e0b\u4e00\u4e2a"], "run cell, select below": ["\u8fd0\u884c\u5355\u5143\u683c, \u9009\u62e9\u4e0b\u65b9\u7684\u5355\u5143\u683c"], "run selected cells": ["\u8fd0\u884c\u9009\u4e2d\u7684\u5355\u5143\u683c"], "run cell and insert below": ["\u8fd0\u884c\u5355\u5143\u683c\u5e76\u5728\u4e0b\u65b9\u63d2\u5165\u5355\u5143\u683c"], "run all cells": ["\u8fd0\u884c\u6240\u6709\u7684\u5355\u5143\u683c"], "run all cells above": ["\u8fd0\u884c\u4e0a\u65b9\u6240\u6709\u7684\u5355\u5143\u683c"], "run all cells below": ["\u8fd0\u884c\u4e0b\u65b9\u6240\u6709\u7684\u5355\u5143\u683c"], "enter command mode": ["\u8fdb\u5165\u547d\u4ee4\u884c\u6a21\u5f0f"], "insert image": ["\u63d2\u5165\u56fe\u7247"], "cut cell attachments": ["\u526a\u5207\u5355\u5143\u683c"], "copy cell attachments": ["\u590d\u5236\u5355\u5143\u683c"], "paste cell attachments": ["\u7c98\u8d34\u5355\u5143\u683c"], "split cell at cursor": ["\u5206\u5272\u5149\u6807\u5de6\u53f3\u5185\u5bb9\u4e3a\u4e24\u4e2a\u5355\u5143\u683c"], "enter edit mode": ["\u8fdb\u5165\u7f16\u8f91\u6a21\u5f0f"], "select previous cell": ["\u9009\u62e9\u4e0a\u4e00\u4e2a\u5355\u5143\u683c"], "select cell above": ["\u9009\u62e9\u4e0a\u65b9\u5355\u5143\u683c"], "select next cell": ["\u9009\u62e9\u4e0b\u4e00\u4e2a\u5355\u5143\u683c"], "select cell below": ["\u9009\u62e9\u4e0b\u65b9\u5355\u5143\u683c"], "extend selection above": ["\u5411\u4e0a\u591a\u9009"], "extend selected cells above": ["\u5411\u4e0a\u591a\u9009\u5355\u5143\u683c"], "extend selection below": ["\u5411\u4e0b\u591a\u9009"], "extend selected cells below": ["\u5411\u4e0b\u591a\u9009\u5355\u5143\u683c"], "cut selected cells": ["\u526a\u5207\u9009\u62e9\u7684\u5355\u5143\u683c"], "copy selected cells": ["\u590d\u5236\u9009\u62e9\u7684\u5355\u5143\u683c"], "paste cells above": ["\u7c98\u8d34\u5230\u4e0a\u65b9"], "paste cells below": ["\u7c98\u8d34\u5230\u4e0b\u65b9"], "insert cell above": ["\u5728\u4e0a\u65b9\u63d2\u5165\u5355\u5143\u683c"], "insert cell below": ["\u5728\u4e0b\u65b9\u63d2\u5165\u5355\u5143\u683c"], "change cell to code": ["\u4fee\u6539\u5355\u5143\u683c\u7c7b\u578b\u4e3acode"], "change cell to markdown": ["\u4fee\u6539\u5355\u5143\u683c\u7c7b\u578b\u4e3amarkdown"], "change cell to raw": ["\u4fee\u6539\u5355\u5143\u683c\u7c7b\u578b\u4e3araw"], "change cell to heading 1": ["\u4fee\u6539\u5355\u5143\u683c\u7c7b\u578b\u4e3a1\u7ea7\u6807\u9898"], "change cell to heading 2": ["\u4fee\u6539\u5355\u5143\u683c\u7c7b\u578b\u4e3a2\u7ea7\u6807\u9898"], "change cell to heading 3": ["\u4fee\u6539\u5355\u5143\u683c\u7c7b\u578b\u4e3a3\u7ea7\u6807\u9898"], "change cell to heading 4": ["\u4fee\u6539\u5355\u5143\u683c\u7c7b\u578b\u4e3a4\u7ea7\u6807\u9898"], "change cell to heading 5": ["\u4fee\u6539\u5355\u5143\u683c\u7c7b\u578b\u4e3a5\u7ea7\u6807\u9898"], "change cell to heading 6": ["\u4fee\u6539\u5355\u5143\u683c\u7c7b\u578b\u4e3a6\u7ea7\u6807\u9898"], "toggle cell output": ["\u5207\u6362\u5355\u5143\u683c\u8f93\u51fa"], "toggle output of selected cells": ["\u5207\u6362\u9009\u4e2d\u5355\u5143\u683c\u7684\u8f93\u51fa"], "toggle cell scrolling": ["\u5207\u6362\u5355\u5143\u683c\u6eda\u52a8\u65b9\u5f0f"], "toggle output scrolling of selected cells": ["\u5207\u6362\u9009\u4e2d\u5355\u5143\u683c\u6eda\u52a8\u65b9\u5f0f"], "clear cell output": ["\u6e05\u7a7a\u6240\u6709\u5355\u5143\u683c\u8f93\u51fa"], "clear output of selected cells": ["\u6e05\u7a7a\u9009\u4e2d\u5355\u5143\u683c\u7684\u8f93\u51fa"], "move cells down": ["\u4e0b\u79fb"], "move selected cells down": ["\u4e0b\u79fb\u9009\u4e2d\u5355\u5143\u683c"], "move cells up": ["\u4e0a\u79fb"], "move selected cells up": ["\u4e0a\u79fb\u9009\u4e2d\u5355\u5143\u683c"], "toggle line numbers": ["\u5f00/\u5173\u884c\u53f7"], "show keyboard shortcuts": ["\u663e\u793a\u5feb\u6377\u952e"], "delete cells": ["\u5220\u9664\u5355\u5143\u683c"], "delete selected cells": ["\u5220\u9664\u9009\u4e2d\u5355\u5143\u683c"], "undo cell deletion": ["\u64a4\u9500\u5220\u9664"], "merge cell with previous cell": ["\u4e0e\u4e4b\u524d\u7684\u5355\u5143\u683c\u5408\u5e76"], "merge cell above": ["\u5411\u4e0a\u5408\u5e76\u5355\u5143\u683c"], "merge cell with next cell": ["\u5408\u5e76\u4e0b\u4e00\u4e2a\u5355\u5143\u683c"], "merge cell below": ["\u5411\u4e0b\u5408\u5e76\u5355\u5143\u683c"], "merge selected cells": ["\u5408\u5e76\u9009\u4e2d\u7684\u5355\u5143\u683c"], "merge cells": ["\u5408\u5e76\u5355\u5143\u683c"], "merge selected cells, or current cell with cell below if only one cell is selected": ["\u5982\u679c\u53ea\u6709\u4e00\u4e2a\u9009\u4e2d\u7684\u5355\u5143\u683c\uff0c\u5219\u5411\u4e0b\u5408\u5e76\u5355\u5143\u683c"], "show command pallette": ["\u663e\u793a\u547d\u4ee4\u914d\u7f6e"], "open the command palette": ["\u6253\u5f00\u547d\u4ee4\u8868"], "toggle all line numbers": ["\u5f00/\u5173 \u6240\u6709\u5355\u5143\u683c\u884c\u53f7"], "toggles line numbers in all cells, and persist the setting": ["\u5f00/\u5173 \u6240\u6709\u5355\u5143\u683c\u884c\u53f7,\u5e76\u8bbe\u7f6e\u4e3a\u9ed8\u8ba4\u503c"], "show all line numbers": ["\u663e\u793a\u884c\u53f7"], "show line numbers in all cells, and persist the setting": ["\u6253\u5f00\u6240\u6709\u5355\u5143\u683c\u7684\u884c\u53f7\u663e\u793a\uff0c\u5e76\u8bbe\u7f6e\u9ed8\u8ba4\u503c\u4e3a\u663e\u793a"], "hide all line numbers": ["\u9690\u85cf\u884c\u53f7"], "hide line numbers in all cells, and persist the setting": ["\u9690\u85cf\u6240\u6709\u5355\u5143\u683c\u7684\u884c\u53f7\u663e\u793a\uff0c\u5e76\u8bbe\u7f6e\u9ed8\u8ba4\u503c\u4e3a\u9690\u85cf"], "toggle header": ["\u5f00/\u5173 \u5de5\u5177\u680f"], "switch between showing and hiding the header": ["\u663e\u793a\u6216\u9690\u85cf\u6807\u9898"], "show the header": ["\u663e\u793a\u6807\u9898"], "hide the header": ["\u9690\u85cf\u6807\u9898"], "toggle toolbar": ["\u5f00/\u5173 \u5de5\u5177\u680f"], "switch between showing and hiding the toolbar": ["\u663e\u793a\u6216\u9690\u85cf\u5de5\u5177\u680f"], "show the toolbar": ["\u663e\u793a\u5de5\u5177\u680f"], "hide the toolbar": ["\u9690\u85cf\u5de5\u5177\u680f"], "close the pager": ["\u5173\u95ed\u9875\u9762"], "automatically indent selection": ["\u81ea\u52a8\u7f29\u8fdb\u9009\u4e2d\u4ee3\u7801"], "ignore": ["\u5ffd\u7565"], "move cursor up": ["\u5149\u6807\u4e0a\u79fb"], "move cursor down": ["\u5149\u6807\u4e0b\u79fb"], "scroll notebook down": ["\u5411\u4e0b\u6eda\u52a8"], "scroll notebook up": ["\u5411\u4e0a\u6eda\u52a8"], "scroll cell center": ["\u6eda\u52a8\u5230\u5355\u5143\u683c\u4e2d\u95f4"], "Scroll the current cell to the center": ["\u628a\u5f53\u524d\u5355\u5143\u683c\u6eda\u52a8\u5230\u4e2d\u95f4"], "scroll cell top": ["\u6eda\u52a8\u5230\u5355\u5143\u683c\u5f00\u59cb\u5904"], "Scroll the current cell to the top": ["\u5c06\u5f53\u524d\u5355\u5143\u683c\u6eda\u52a8\u5230\u9876\u90e8"], "duplicate notebook": ["\u590d\u5236\u4ee3\u7801"], "Create and open a copy of the current notebook": ["\u521b\u5efa\u5e76\u6253\u5f00\u5f53\u524d\u4ee3\u7801\u7684\u4e00\u4e2a\u526f\u672c"], "trust notebook": ["\u4fe1\u4efbnotebook"], "Trust the current notebook": ["\u4fe1\u4efb\u5f53\u524dnotebook"], "rename notebook": ["\u91cd\u547d\u540dnotebook"], "Rename the current notebook": ["\u91cd\u547d\u540d\u5f53\u524dnotebook"], "toggle all cells output collapsed": ["\u663e\u793a/\u9690\u85cf \u6240\u6709\u5355\u5143\u683c\u7684\u5954\u6e83\u8f93\u51fa"], "Toggle the hidden state of all output areas": ["\u5207\u6362\u6240\u6709\u8f93\u51fa\u533a\u57df\u7684\u9690\u85cf\u72b6\u6001"], "toggle all cells output scrolled": ["\u5f00/\u5173 \u6240\u6709\u5355\u5143\u683c\u7684\u6eda\u52a8\u8f93\u51fa"], "Toggle the scrolling state of all output areas": ["\u5207\u6362\u6240\u6709\u8f93\u51fa\u533a\u57df\u7684\u6eda\u52a8\u72b6\u6001"], "clear all cells output": ["\u6e05\u7a7a\u6240\u6709\u5355\u5143\u683c\u8f93\u51fa"], "Clear the content of all the outputs": ["\u6e05\u7a7a\u6240\u6709\u7684\u8f93\u51fa\u5185\u5bb9"], "save notebook": ["\u4fdd\u5b58notebook"], "Save and Checkpoint": ["\u4fdd\u5b58\u5e76\u521b\u5efa\u68c0\u67e5\u70b9"], "Warning: accessing Cell.cm_config directly is deprecated.": ["\u8b66\u544a: \u8bbf\u95eeCell.cm_config\u5df2\u7ecf\u88ab\u5f03\u7528\u4e86."], "Unrecognized cell type: %s": ["\u672a\u77e5\u7684\u5355\u5143\u683c\u7c7b\u578b: %s"], "Unrecognized cell type": ["\u672a\u77e5\u7684\u5355\u5143\u683c\u7c7b\u578b"], "Error in cell toolbar callback %s": ["\u5de5\u5177\u680f\u56de\u8c03 %s \u51fa\u73b0\u9519\u8bef"], "Clipboard types: %s": ["\u526a\u8d34\u677f\u7c7b\u578b: %s"], "Dialog for paste from system clipboard": ["\u4ece\u7cfb\u7edf\u526a\u5207\u677f\u7c98\u8d34"], "Ctrl-V": [""], "Cmd-V": [""], "Press %s again to paste": ["\u518d\u6309\u4e00\u6b21 %s \u7c98\u8d34"], "Why is this needed? ": ["\u4e3a\u4ec0\u4e48\u9700\u8981\u8fd9\u4e2a\u5462?"], "We can't get paste events in this browser without a text box. ": ["\u5f53\u524d\u6d4f\u89c8\u5668\u9700\u8981\u6587\u672c\u6846\u624d\u80fd\u8fdb\u884c\u7c98\u8d34. "], "There's an invisible text box focused in this dialog.": ["\u8fd9\u4e2a\u5bf9\u8bdd\u6846\u4e2d\u6709\u4e00\u4e2a\u88ab\u9690\u85cf\u7684\u6587\u672c\u6846."], "%s to paste": ["%s \u6765\u7c98\u8d34"], "Can't execute cell since kernel is not set.": ["\u5185\u6838\u6ca1\u6709\u8bbe\u7f6e\uff0c\u65e0\u6cd5\u6267\u884c\u5185\u6838."], "In": [""], "Could not find a kernel matching %s. Please select a kernel:": ["\u672a\u627e\u5230\u5339\u914d\u7684\u5185\u6838 %s. \u8bf7\u9009\u62e9\u4e00\u4e2a\u5185\u6838:"], "Continue Without Kernel": ["\u65e0\u5185\u6838\u7ee7\u7eed\u8fd0\u884c"], "Set Kernel": ["\u8bbe\u7f6e\u5185\u6838"], "Kernel not found": ["\u672a\u627e\u5230\u5185\u6838"], "Creating Notebook Failed": ["\u521b\u5efanotebook\u5931\u8d25"], "The error was: %s": ["\u9519\u8bef: %s"], "Run": ["\u8fd0\u884c"], "Code": ["\u4ee3\u7801"], "Markdown": ["Markdown"], "Raw NBConvert": ["Raw NBConvert"], "Heading": ["\u6807\u9898"], "unrecognized cell type:": ["\u672a\u8bc6\u522b\u7684\u5355\u5143\u683c\u7c7b\u578b:"], "Failed to retrieve MathJax from '%s'": ["\u4ece '%s' \u4e2d\u672a\u80fd\u68c0\u7d22 MathJax"], "Math/LaTeX rendering will be disabled.": ["Math/LaTeX \u6e32\u67d3\u5c06\u4e0d\u53ef\u7528."], "Trusted Notebook": ["\u53ef\u4fe1\u7684Notebook"], "Trust Notebook": ["\u4fe1\u4efbNotebook"], "None": [""], "No checkpoints": ["\u6ca1\u6709\u68c0\u67e5\u70b9"], "Opens in a new window": ["\u5728\u65b0\u7a97\u53e3\u6253\u5f00"], "Autosave in progress, latest changes may be lost.": ["\u81ea\u52a8\u4fdd\u5b58, \u6700\u65b0\u7684\u4fee\u6539\u6709\u53ef\u80fd\u4e22\u5931."], "Unsaved changes will be lost.": ["\u672a\u4fdd\u5b58\u7684\u4fee\u6539\u5c06\u4f1a\u4e22\u5931."], "The Kernel is busy, outputs may be lost.": ["\u5185\u6838\u6b63\u5fd9, \u8f93\u51fa\u53ef\u80fd\u4f1a\u4e22\u5931."], "This notebook is version %1$s, but we only fully support up to %2$s.": ["\u672c\u7a0b\u5e8f\u7248\u672c %1$s, \u4f46\u662f\u6211\u4eec\u53ea\u662f\u652f\u6301\u5230 %2$s."], "You can still work with this notebook, but cell and output types introduced in later notebook versions will not be available.": ["\u60a8\u4ecd\u7136\u53ef\u4ee5\u4f7f\u7528\u672c\u7a0b\u5e8f, \u4f46\u662f\u5728\u4ee5\u540e\u7684\u7248\u672c\u4e2d\u5f15\u5165\u7684\u5355\u5143\u548c\u8f93\u51fa\u7c7b\u578b\u5c06\u4e0d\u53ef\u7528."], "Restart and Run All Cells": ["\u91cd\u542f\u5e76\u8fd0\u884c\u6240\u6709\u5355\u5143\u683c"], "Restart and Clear All Outputs": ["\u91cd\u542f\u5e76\u6e05\u7a7a\u6240\u6709\u8f93\u51fa"], "Restart": ["\u91cd\u542f"], "Continue Running": ["\u7ee7\u7eed\u8fd0\u884c"], "Reload": ["\u91cd\u65b0\u52a0\u8f7d"], "Overwrite": ["\u91cd\u5199"], "Trust": ["\u4fe1\u4efb"], "Revert": ["\u6062\u590d"], "Newer Notebook": ["\u65b0\u7684Notebook"], "Use markdown headings": ["\u4f7f\u7528markdown\u4e2d\u7684headings"], "Jupyter no longer uses special heading cells. Instead, write your headings in Markdown cells using # characters:": ["Jupyter\u4e0d\u518d\u4f7f\u7528\u7279\u6b8a\u7684\u6807\u9898\u5355\u5143\u683c,\u800c\u662f\u4f7f\u7528Markdown\u7684\u5b57\u7b26 # \u6765\u6807\u8bc6\u6807\u9898\u5355\u5143\u683c"], "## This is a level 2 heading": ["## \u8fd9\u662f\u4e00\u4e2a2\u7ea7\u6807\u9898"], "Restart kernel and re-run the whole notebook?": ["\u91cd\u542f\u5185\u6838\u5e76\u6267\u884c\u6240\u6709\u5355\u5143\u683c?"], "Are you sure you want to restart the current kernel and re-execute the whole notebook?  All variables and outputs will be lost.": ["\u60a8\u786e\u5b9a\u8981\u91cd\u542f\u5f53\u524d\u5185\u6838\u5e76\u6267\u884c\u6240\u6709\u5355\u5143\u683c\u5417? \u5f53\u524d\u7684\u53d8\u91cf\u548c\u8f93\u51fa\u90fd\u5c06\u4e22\u5931."], "Restart kernel and clear all output?": ["\u91cd\u542f\u5185\u6838\u5e76\u6e05\u7a7a\u6240\u6709\u8f93\u51fa?"], "Do you want to restart the current kernel and clear all output?  All variables and outputs will be lost.": ["\u60a8\u786e\u5b9a\u8981\u91cd\u65b0\u542f\u52a8\u5f53\u524d\u7684\u5185\u6838\u5e76\u6e05\u9664\u6240\u6709\u8f93\u51fa? \u6240\u6709\u7684\u53d8\u91cf\u548c\u8f93\u51fa\u90fd\u5c06\u4e22\u5931."], "Do you want to shutdown the current kernel?  All variables will be lost.": ["\u5982\u679c\u5173\u95ed\u5185\u6838\uff0c\u6240\u6709\u53d8\u91cf\u90fd\u4f1a\u4e22\u5931"], "Restart kernel?": ["\u91cd\u542f\u5185\u6838?"], "Do you want to restart the current kernel?  All variables will be lost.": ["\u5982\u679c\u91cd\u542f\u5185\u6838, \u6240\u6709\u53d8\u91cf\u90fd\u4f1a\u4e22\u5931."], "Notebook changed": ["notebook \u5df2\u66f4\u6539"], "The notebook file has changed on disk since the last time we opened or saved it. Do you want to overwrite the file on disk with the version open here, or load the version on disk (reload the page)?": ["\u81ea\u4ece\u4e0a\u6b21\u6211\u4eec\u6253\u5f00\u6216\u4fdd\u5b58\u5b83\u4ee5\u6765, \u7b14\u8bb0\u672c\u6587\u4ef6\u5df2\u7ecf\u5728\u78c1\u76d8\u4e0a\u53d1\u751f\u4e86\u53d8\u5316. \u60a8\u662f\u5e0c\u671b\u5f53\u524d\u7248\u672c\u8986\u76d6\u78c1\u76d8\u4e0a\u7684\u7248\u672c, \u8fd8\u662f\u4e22\u5f03\u5f53\u524d\u7248\u672c\uff0c\u91cd\u65b0\u52a0\u8f7d\u78c1\u76d8\u4e0a\u7684\u7248\u672c?"], "Notebook validation failed": ["Notebook \u9a8c\u8bc1\u5931\u6548"], "The save operation succeeded, but the notebook does not appear to be valid. The validation error was:": ["\u4fdd\u5b58\u64cd\u4f5c\u6210\u529f\u4e86\uff0c\u4f46\u662f\u8fd9\u4e2anotebook\u4f3c\u4e4e\u662f\u65e0\u6548\u7684\u3002\u9a8c\u8bc1\u9519\u8bef:"], "A trusted Jupyter notebook may execute hidden malicious code when you open it. Selecting trust will immediately reload this notebook in a trusted state. For more information, see the Jupyter security documentation: ": ["\u5f53\u4f60\u6253\u5f00\u4e00\u4e2a\u88ab\u4fe1\u4efb\u7684Jupyter notebook\u65f6\uff0c\u5b83\u53ef\u80fd\u4f1a\u6267\u884c\u9690\u85cf\u7684\u6076\u610f\u4ee3\u7801\u3002 \u9009\u62e9\u4fe1\u4efb\u5c06\u7acb\u5373\u4ee5\u4fe1\u4efb\u72b6\u6001\u91cd\u65b0\u52a0\u8f7d\u8fd9\u4e2anotebook\u3002\u8981\u4e86\u89e3\u66f4\u591a\u4fe1\u606f\uff0c \u8bf7\u53c2\u9605Jupyter\u5b89\u5168\u6587\u6863:"], "here": ["\u8fd9\u91cc"], "Trust this notebook?": ["\u4fe1\u4efb\u8fd9\u4e2anotebook?"], "Notebook failed to load": ["notebook\u52a0\u8f7d\u5931\u8d25"], "The error was: ": ["\u9519\u8bef: "], "See the error console for details.": ["\u8be6\u7ec6\u4fe1\u606f, \u8bf7\u53c2\u9605\u9519\u8bef\u63a7\u5236\u53f0."], "The notebook also failed validation:": ["notebook \u4e5f\u6ca1\u6709\u901a\u8fc7\u9a8c\u8bc1:"], "An invalid notebook may not function properly. The validation error was:": ["\u65e0\u6548\u7684notebook\u53ef\u80fd\u65e0\u6cd5\u6b63\u5e38\u5de5\u4f5c. \u9a8c\u8bc1\u51fa\u7684\u9519\u8bef:"], "This notebook has been converted from an older notebook format to the current notebook format v(%s).": ["\u8be5notebook\u5df2\u4ece\u8f83\u65e7\u7684notebook\u683c\u5f0f\u8f6c\u6362\u4e3a\u5f53\u524d\u683c\u5f0f v(%s)."], "This notebook has been converted from a newer notebook format to the current notebook format v(%s).": ["\u8fd9\u4e2anotebook\u5df2\u7ecf\u4ece\u4e00\u79cd\u65b0\u7684\u683c\u5f0f\u8f6c\u6362\u4e3a\u5f53\u524d\u7684\u683c\u5f0f v(%s)."], "The next time you save this notebook, the current notebook format will be used.": ["\u4e0b\u6b21\u4fdd\u5b58\u8be5notebook\u65f6, \u5c06\u4f7f\u7528\u5f53\u524d\u7684notebook\u683c\u5f0f\u3002"], "Older versions of Jupyter may not be able to read the new format.": ["\u65e7\u7248\u672c\u7684Jupyter\u53ef\u80fd\u65e0\u6cd5\u8bfb\u53d6\u65b0\u683c\u5f0f\u3002"], "Some features of the original notebook may not be available.": ["\u539f\u59cbnotebook\u7684\u4e00\u4e9b\u7279\u6027\u53ef\u80fd\u65e0\u6cd5\u4f7f\u7528\u3002"], "To preserve the original version, close the notebook without saving it.": ["\u5982\u679c\u8981\u4fdd\u5b58\u539f\u59cb\u7248\u672c, \u8bf7\u5173\u95ed\u8be5notebook\u800c\u4e0d\u662f\u4fdd\u5b58\u5b83\u3002"], "Notebook converted": ["notebook\u5df2\u8f6c\u6362"], "(No name)": ["(\u6ca1\u6709\u540d\u5b57)"], "An unknown error occurred while loading this notebook. This version can load notebook formats %s or earlier. See the server log for details.": ["\u52a0\u8f7d\u8be5notebook\u65f6\u51fa\u73b0\u4e86\u4e00\u4e2a\u672a\u77e5\u7684\u9519\u8bef\u3002 \u8fd9\u4e2a\u7248\u672c\u53ef\u4ee5\u52a0\u8f7d%s\u6216\u66f4\u65e9\u7684\u7b14\u8bb0\u672c\u3002 \u6709\u5173\u8be6\u7ec6\u4fe1\u606f, \u8bf7\u53c2\u9605\u670d\u52a1\u5668\u65e5\u5fd7\u3002"], "Error loading notebook": ["\u52a0\u8f7dnotebook\u65f6\u51fa\u9519"], "Are you sure you want to revert the notebook to the latest checkpoint?": ["\u662f\u5426\u56de\u9000notebook\u5230\u6700\u540e\u4e00\u4e2a\u68c0\u67e5\u70b9\uff1f"], "This cannot be undone.": ["\u8be5\u64cd\u4f5c\u4e0d\u80fd\u88ab\u64a4\u9500\u3002"], "The checkpoint was last updated at:": ["\u68c0\u67e5\u70b9\u6700\u540e\u66f4\u65b0\u65f6\u95f4:"], "Revert notebook to checkpoint": ["\u56de\u9000notebook\u5230\u68c0\u67e5\u70b9"], "Edit Mode": ["\u7f16\u8f91\u6a21\u5f0f"], "Command Mode": ["\u547d\u4ee4\u6a21\u5f0f"], "Kernel Created": ["\u5185\u6838\u5df2\u521b\u5efa"], "Connecting to kernel": ["\u6b63\u5728\u8fde\u63a5\u81f3\u5185\u6838"], "Not Connected": ["\u672a\u8fde\u63a5"], "click to reconnect": ["\u70b9\u51fb\u91cd\u65b0\u8fde\u63a5"], "Kernel Connected": ["\u5185\u6838\u5df2\u8fde\u63a5"], "Restarting kernel": ["\u91cd\u542f\u5185\u6838"], "Kernel Restarting": ["\u5185\u6838\u6b63\u5728\u91cd\u542f"], "The kernel appears to have died. It will restart automatically.": ["\u5185\u6838\u53ef\u80fd\u5df2\u505c\u6b62\u8fd0\u884c\uff0c\u7a0d\u540e\u5c06\u81ea\u52a8\u91cd\u542f\u3002"], "Dead kernel": ["\u5df2\u505c\u6b62\u8fd0\u884c\u7684\u5185\u6838"], "Kernel Dead": ["\u5185\u6838\u5df2\u505c\u6b62\u8fd0\u884c"], "Interrupting kernel": ["\u6b63\u5728\u4e2d\u65ad\u5185\u6838"], "No Connection to Kernel": ["\u672a\u8fde\u63a5\u81f3\u5185\u6838"], "A connection to the notebook server could not be established. The notebook will continue trying to reconnect. Check your network connection or notebook server configuration.": ["\u65e0\u6cd5\u8fde\u63a5\u81f3notebook\u670d\u52a1\u5668\uff0c\u7a0b\u5e8f\u5c06\u5c1d\u8bd5\u91cd\u65b0\u8fde\u63a5\uff0c \u8bf7\u68c0\u67e5\u60a8\u7684\u7f51\u7edc\u8fde\u63a5\u6216\u670d\u52a1\u5668\u914d\u7f6e\u3002"], "Connection failed": ["\u8fde\u63a5\u5931\u8d25"], "No kernel": ["\u65e0\u5185\u6838"], "Kernel is not running": ["\u5185\u6838\u672a\u8fd0\u884c"], "Don't Restart": ["\u4e0d\u8981\u91cd\u542f"], "Try Restarting Now": ["\u73b0\u5728\u5c1d\u8bd5\u91cd\u542f"], "The kernel has died, and the automatic restart has failed. It is possible the kernel cannot be restarted. If you are not able to restart the kernel, you will still be able to save the notebook, but running code will no longer work until the notebook is reopened.": ["\u5185\u6838\u5df2\u7ecf\u505c\u6b62\u8fd0\u884c\uff0c\u81ea\u52a8\u91cd\u542f\u5931\u8d25\u3002\u5982\u679c\u65e0\u6cd5\u91cd\u542f\u5185\u6838\uff0c\u60a8\u4ecd\u7136\u53ef\u4ee5\u4fdd\u5b58notebook\uff0c\u4f46\u5728notebook\u91cd\u65b0\u6253\u5f00\u4e4b\u524d\uff0c\u60a8\u5c06\u65e0\u6cd5\u8fd0\u884c\u4ee3\u7801\u3002"], "No Kernel": ["\u65e0\u5185\u6838"], "Failed to start the kernel": ["\u542f\u52a8\u5185\u6838\u5931\u8d25"], "Kernel Busy": ["\u5185\u6838\u6b63\u5fd9"], "Kernel starting, please wait...": ["\u5185\u6838\u6b63\u5728\u542f\u52a8,\u8bf7\u7a0d\u7b49..."], "Kernel Idle": ["\u5185\u6838\u7a7a\u95f2"], "Kernel ready": ["\u5185\u6838\u51c6\u5907\u5c31\u7eea"], "Using kernel: ": ["\u4f7f\u7528\u5185\u6838:"], "Only candidate for language: %1$s was %2$s.": ["\u552f\u4e00\u5019\u9009\u8bed\u8a00\uff1a%1$s-->%2$s"], "Loading notebook": ["\u52a0\u8f7dnotebook\u4e2d"], "Notebook loaded": ["notebook\u5df2\u52a0\u8f7d"], "Saving notebook": ["\u4fdd\u5b58notebook"], "Notebook saved": ["notebook\u5df2\u4fdd\u5b58"], "Notebook save failed": ["notebook\u4fdd\u5b58\u5931\u8d25"], "Notebook copy failed": ["notebook\u590d\u5236\u5931\u8d25"], "Checkpoint created": ["\u68c0\u67e5\u70b9\u5df2\u521b\u5efa"], "Checkpoint failed": ["\u68c0\u67e5\u70b9\u521b\u5efa\u5931\u8d25"], "Checkpoint deleted": ["\u68c0\u67e5\u70b9\u5df2\u5220\u9664"], "Checkpoint delete failed": ["\u68c0\u67e5\u70b9\u5220\u9664\u5931\u8d25"], "Restoring to checkpoint...": ["\u91cd\u65b0\u4fdd\u5b58\u68c0\u67e5\u70b9\u4e2d..."], "Checkpoint restore failed": ["\u91cd\u65b0\u4fdd\u5b58\u68c0\u67e5\u70b9\u5931\u8d25"], "Autosave disabled": ["\u81ea\u52a8\u4fdd\u5b58\u4e0d\u53ef\u7528"], "Saving every %d sec.": ["\u81ea\u52a8\u4fdd\u5b58\u5468\u671f:%s sec\u3002"], "Trusted": ["\u5df2\u4fe1\u4efb"], "Not Trusted": ["\u672a\u4fe1\u4efb"], "click to expand output": ["\u70b9\u51fb\u5c55\u5f00\u8f93\u51fa"], "click to expand output; double click to hide output": ["\u70b9\u51fb\u5c55\u5f00\u8f93\u51fa; \u53cc\u51fb\u9690\u85cf"], "click to unscroll output; double click to hide": ["\u5355\u51fb\u663e\u793a\u8f93\u51fa; \u53cc\u51fb\u9690\u85cf"], "click to scroll output; double click to hide": ["\u70b9\u51fb\u6eda\u52a8\u8f93\u51fa;\u53cc\u51fb\u9690\u85cf"], "Javascript error adding output!": ["Javascript\u6dfb\u52a0\u8f93\u51fa\u9519\u8bef!"], "See your browser Javascript console for more details.": ["\u66f4\u591a\u7ec6\u8282\u8bf7\u53c2\u89c1\u60a8\u7684\u6d4f\u89c8\u5668Javascript\u63a7\u5236\u53f0\u3002"], "Out[%d]:": ["Out[%d]:"], "Unrecognized output: %s": ["\u672a\u8bc6\u522b\u7684\u8f93\u51fa: %s"], "Open the pager in an external window": ["\u5728\u5916\u90e8\u7a97\u53e3\u6253\u5f00\u9875\u9762"], "Close the pager": ["\u5173\u95ed\u9875\u9762"], "Jupyter Pager": ["Jupyter \u9875\u9762"], "go to cell start": ["\u8df3\u8f6c\u81f3\u5355\u5143\u683c\u5934"], "go to cell end": ["\u8df3\u8f6c\u81f3\u5355\u5143\u683c\u5c3e"], "go one word left": ["\u8df3\u8f6c\u81f3\u5355\u8bcd\u5de6\u4fa7"], "go one word right": ["\u8df3\u8f6c\u81f3\u5355\u8bcd\u53f3\u4fa7"], "delete word before": ["\u5220\u9664\u5de6\u4fa7\u7684\u5355\u8bcd"], "delete word after": ["\u5220\u9664\u53f3\u4fa7\u7684\u5355\u8bcd"], "redo": ["\u91cd\u505a"], "redo selection": ["\u91cd\u65b0\u9009\u62e9"], "emacs-style line kill": ["emacs\u884c\u5220\u9664"], "delete line left of cursor": ["\u5220\u9664\u5149\u6807\u5de6\u4fa7\u7684\u7ebf"], "delete line right of cursor": ["\u5220\u9664\u5149\u6807\u53f3\u4fa7\u7684\u7ebf"], "code completion or indent": ["\u4ee3\u7801\u8865\u5168\u6216\u7f29\u8fdb"], "tooltip": ["\u63d0\u793a\u4fe1\u606f"], "indent": ["\u7f29\u8fdb"], "dedent": ["\u53d6\u6d88\u7f29\u8fdb"], "select all": ["\u5168\u9009"], "undo": ["\u64a4\u9500"], "comment": ["\u8bc4\u8bba"], "delete whole line": ["\u5220\u9664\u6574\u884c"], "undo selection": ["\u64a4\u9500\u9009\u62e9"], "toggle overwrite flag": ["\u5207\u6362 \u91cd\u5199\u6807\u5fd7"], "Shift": ["Shift"], "Alt": ["Alt"], "Up": ["\u2191"], "Down": ["\u2193"], "Left": ["\u2190"], "Right": ["\u2192"], "Tab": ["Tab"], "Caps Lock": ["Caps Lock"], "Esc": ["Esc"], "Ctrl": ["Ctrl"], "Enter": ["Enter"], "Page Up": ["\u4e0a\u4e00\u9875"], "Page Down": ["\u4e0b\u4e00\u9875"], "Home": ["Home"], "End": ["End"], "Space": ["\u7a7a\u683c"], "Backspace": ["Backspace"], "Minus": [""], "PageUp": ["\u4e0a\u4e00\u9875"], "The Jupyter Notebook has two different keyboard input modes.": ["Jupyter Notebook\u6709\u4e24\u79cd\u4e0d\u540c\u7684\u952e\u76d8\u8f93\u5165\u6a21\u5f0f:"], "<b>Edit mode</b> allows you to type code or text into a cell and is indicated by a green cell border.": ["<b>\u7f16\u8f91\u6a21\u5f0f</b>\u5141\u8bb8\u60a8\u5411\u5355\u5143\u683c\u4e2d\u5199\u5165\u4ee3\u7801\u6216\u6587\u5b57,\u7f16\u8f91\u6a21\u5f0f\u4e2d,\u5de6\u4fa7\u8fb9\u6846\u4e3a\u7eff\u8272\u3002"], "<b>Command mode</b> binds the keyboard to notebook level commands and is indicated by a grey cell border with a blue left margin.": ["<b>\u547d\u4ee4\u6a21\u5f0f</b>\u5c06notebook\u547d\u4ee4\u7ed1\u5b9a\u4e3a\u952e\u76d8\u5feb\u6377\u952e,\u547d\u4ee4\u6a21\u5f0f\u4e0b,\u5de6\u8fb9\u6846\u4e3a\u84dd\u8272,\u5355\u5143\u683c\u6574\u4f53\u4e3a\u7070\u8272\u3002"], "Close": ["\u5173\u95ed"], "Keyboard shortcuts": ["\u5feb\u6377\u952e"], "Command": ["\u547d\u4ee4"], "Control": ["\u63a7\u5236"], "Option": ["\u9009\u9879"], "Return": ["\u8fd4\u56de"], "Command Mode (press %s to enable)": ["\u547d\u4ee4\u6a21\u5f0f(\u6309 %s \u751f\u6548)"], "Edit Shortcuts": ["\u7f16\u8f91\u5feb\u6377\u952e"], "edit command-mode keyboard shortcuts": ["\u7f16\u8f91\u547d\u4ee4\u5feb\u6377\u952e"], "Edit Mode (press %s to enable)": ["\u7f16\u8f91\u6a21\u5f0f(\u6309 %s \u751f\u6548)"], "Autosave Failed!": ["\u81ea\u52a8\u4fdd\u5b58\u5931\u8d25!"], "Rename": ["\u91cd\u547d\u540d"], "Enter a new notebook name:": ["\u8bf7\u8f93\u5165\u65b0\u540d\u5b57:"], "Rename Notebook": ["\u91cd\u547d\u540d"], "Invalid notebook name. Notebook names must have 1 or more characters and can contain any characters except :/\\. Please enter a new notebook name:": ["\u65e0\u6548\u7684\u6587\u4ef6\u540d. notebook\u540d\u5b57\u4e0d\u80fd\u4e3a\u7a7a \u5e76\u4e14\u4e0d\u80fd\u5305\u542b :/\\. \u8bf7\u8f93\u5165\u4e00\u4e2a\u65b0\u7684\u6587\u4ef6\u540d:"], "Renaming...": ["\u6b63\u5728\u91cd\u547d\u540d..."], "Unknown error": ["\u672a\u77e5\u9519\u8bef"], "no checkpoint": ["\u68c0\u67e5\u70b9\u4e0d\u5b58\u5728"], "Last Checkpoint: %s": ["\u6700\u65b0\u68c0\u67e5\u70b9: %s "], "(unsaved changes)": ["(\u672a\u4fdd\u5b58\u7684\u4fee\u6539)"], "(autosaved)": ["(\u81ea\u52a8\u4fdd\u5b58)"], "Warning: too many matches (%d). Some changes might not be shown or applied.": ["\u8b66\u544a:\u5339\u914d\u9879(%d)\u8fc7\u591a. \u6709\u4e9b\u66f4\u6539\u53ef\u80fd\u4e0d\u4f1a\u88ab\u663e\u793a\u6216\u5e94\u7528\u3002"], "%d match": ["%d \u4e2a\u5339\u914d", "%d \u4e2a\u5339\u914d"], "More than 100 matches, aborting": ["\u5339\u914d\u9879\u8d85\u8fc7100\u4e2a, \u6b63\u5728\u7ec8\u6b62"], "Use regex (JavaScript regex syntax)": ["\u4f7f\u7528\u6b63\u5219\u8868\u8fbe\u5f0f(JavaScript\u6b63\u5219\u8bed\u6cd5)"], "Replace in selected cells": ["\u5728\u9009\u4e2d\u7684\u5355\u5143\u683c\u4e2d\u66ff\u6362"], "Match case": ["\u5339\u914d"], "Find": ["\u67e5\u627e"], "Replace": ["\u66ff\u6362"], "No matches, invalid or empty regular expression": ["\u65e0\u5339\u914d\u9879, \u6b63\u5219\u8868\u8fbe\u5f0f\u65e0\u6548\u6216\u4e3a\u7a7a"], "Replace All": ["\u66ff\u6362\u6240\u6709"], "Find and Replace": ["\u67e5\u627e\u5e76\u66ff\u6362"], "find and replace": ["\u67e5\u627e\u5e76\u66ff\u6362"], "Write raw LaTeX or other formats here, for use with nbconvert. It will not be rendered in the notebook. When passing through nbconvert, a Raw Cell's content is added to the output unmodified.": ["\u5728\u8fd9\u91cc\u5199\u7684\u539f\u751fLaTex\u6216\u8005\u5176\u4ed6\u683c\u5f0f\u7684\u5185\u5bb9\uff0c\u5c06\u548cnbconvert\u4e00\u8d77\u4f7f\u7528\u3002\u5b83\u4e0d\u4f1a\u88ab\u6e32\u67d3\u5230notebook\u4e2d\u3002\u5f53\u8c03\u7528nbcovert\u65f6\uff0c\u6dfb\u52a0\u7684\u5185\u5bb9\u5c06\u4f1a\u88ab\u539f\u5c01\u4e0d\u52a8\u6dfb\u52a0\u5230\u5355\u5143\u683c\u524d\u3002"], "Grow the tooltip vertically (press shift-tab twice)": ["\u5c55\u5f00\u63d0\u793a\u4fe1\u606f(\u6309shift-tip\u4e24\u6b21)"], "show the current docstring in pager (press shift-tab 4 times)": ["\u663e\u793adocstring(\u6309shift-tip\u56db\u6b21)"], "Open in Pager": ["\u4ece\u9875\u9762\u6253\u5f00"], "Tooltip will linger for 10 seconds while you type": ["\u63d0\u793a\u4fe1\u606f\u5c06\u505c\u755910\u79d2"], "Welcome to the Notebook Tour": ["\u6b22\u8fce\u4f7f\u7528Notebook"], "You can use the left and right arrow keys to go backwards and forwards.": ["\u4f7f\u7528\u5de6\u53f3\u7bad\u5934\u952e\u6765\u524d\u540e\u79fb\u52a8"], "Filename": ["\u6587\u4ef6\u540d"], "Click here to change the filename for this notebook.": ["\u70b9\u51fb\u6539\u53d8notebook\u6587\u4ef6\u540d"], "Notebook Menubar": ["\u83dc\u5355\u680f"], "The menubar has menus for actions on the notebook, its cells, and the kernel it communicates with.": ["\u64cd\u4f5c\u5355\u5143\u683c\uff0c\u5185\u6838\u901a\u4fe1\u7b49\u529f\u80fd\u653e\u5728\u83dc\u5355\u680f\u3002"], "Notebook Toolbar": ["notebook\u5de5\u5177\u680f"], "The toolbar has buttons for the most common actions. Hover your mouse over each button for more information.": ["\u5de5\u5177\u680f\u653e\u7740\u4e00\u4e9b\u5e38\u7528\u64cd\u4f5c\u7684\u6309\u94ae\u3002\u5c06\u9f20\u6807\u79fb\u52a8\u5230\u6309\u94ae\u4e0a\u4ee5\u67e5\u770b\u4f7f\u7528\u5e2e\u52a9\u3002"], "Mode Indicator": ["\u6a21\u5f0f\u6307\u793a\u5668"], "The Notebook has two modes: Edit Mode and Command Mode. In this area, an indicator can appear to tell you which mode you are in.": ["notebook\u6709\u4e24\u79cd\u6a21\u5f0f\uff1a\u7f16\u8f91\u6a21\u5f0f\u548c\u547d\u4ee4\u6a21\u5f0f\u3002 \u8fd9\u91cc\u7684\u6307\u793a\u5668\u663e\u793a\u4f60\u6b63\u5728\u4f7f\u7528\u54ea\u4e2a\u6a21\u5f0f\u3002 "], "Right now you are in Command Mode, and many keyboard shortcuts are available. In this mode, no icon is displayed in the indicator area.": ["\u73b0\u5728\u4f60\u6b63\u5904\u4e8e\u547d\u4ee4\u6a21\u5f0f\uff0c\u53ef\u4ee5\u7528\u8bb8\u591a\u5feb\u6377\u952e\u3002\u547d\u4ee4\u6a21\u5f0f\u4e0b\uff0c\u6307\u793a\u533a\u57df\u4e2d\u4e0d\u663e\u793a\u56fe\u6807\u3002"], "Pressing <code>Enter</code> or clicking in the input text area of the cell switches to Edit Mode.": ["\u6309\u4e0b<code>Enter</code>\uff0c\u6216\u8005\u70b9\u51fb\u5355\u5143\u683c\u7684\u6587\u672c\u8f93\u5165\u533a\u57df\uff0c\u5207\u6362\u5230\u7f16\u8f91\u6a21\u5f0f\u3002"], "Notice that the border around the currently active cell changed color. Typing will insert text into the currently active cell.": ["\u5207\u6362\u6a21\u5f0f\u65f6\u5f53\u524d\u6d3b\u52a8\u5355\u5143\u683c\u5468\u56f4\u7684\u8fb9\u6846\u989c\u8272\u4e5f\u4f1a\u53d1\u751f\u53d8\u5316\u3002 \u7f16\u8f91\u6a21\u5f0f\u4e0b,\u952e\u76d8\u7684\u8f93\u5165\u5c06\u63d2\u5165\u5230\u5f53\u524d\u6d3b\u52a8\u5355\u5143\u7684\u6587\u672c\u4e2d\u3002"], "Back to Command Mode": ["\u5207\u6362\u5230\u547d\u4ee4\u6a21\u5f0f"], "Pressing <code>Esc</code> or clicking outside of the input text area takes you back to Command Mode.": ["\u6309\u4e0b<code>Esc</code>\uff0c\u6216\u8005\u70b9\u51fb\u5355\u5143\u683c\u7684\u975e\u8f93\u5165\u6587\u672c\u533a\u57df\uff0c\u5c06\u5207\u6362\u5230\u547d\u4ee4\u6a21\u5f0f\u3002"], "Keyboard Shortcuts": ["\u5feb\u6377\u952e"], "You can click here to get a list of all of the keyboard shortcuts.": ["\u70b9\u51fb\u67e5\u770b\u6240\u6709\u5feb\u6377\u952e"], "Kernel Indicator": ["\u5185\u6838\u6307\u793a\u5668"], "This is the Kernel indicator. It looks like this when the Kernel is idle.": ["\u8fd9\u662f\u5185\u6838\u6307\u793a\u5668\u3002\u5f53\u5185\u6838\u7a7a\u95f2\u65f6\uff0c\u5b83\u770b\u8d77\u6765\u5c31\u50cf\u8fd9\u6837\u3002"], "The Kernel indicator looks like this when the Kernel is busy.": ["\u5f53\u5185\u6838\u7e41\u5fd9\u65f6\u770b\u8d77\u6765\u662f\u8fd9\u6837\u7684\u3002"], "Interrupting the Kernel": ["\u5185\u6838\u4e2d\u65ad"], "To cancel a computation in progress, you can click here.": ["\u60a8\u53ef\u4ee5\u70b9\u51fb\u8fd9\u91cc\u53d6\u6d88\u6b63\u5728\u8fdb\u884c\u7684\u8ba1\u7b97\u3002"], "Notification Area": ["\u901a\u77e5\u680f"], "Messages in response to user actions (Save, Interrupt, etc.) appear here.": ["\u7528\u6237\u64cd\u4f5c(\u4fdd\u5b58, \u4e2d\u65ad\u7b49)\u7684\u54cd\u5e94\u6d88\u606f\u5728\u8fd9\u91cc\u663e\u793a\u3002"], "End of Tour": ["\u7ed3\u675f"], "This concludes the Jupyter Notebook User Interface Tour.": ["\u795d\u60a8\u4f7f\u7528\u6109\u5feb\uff0c\u6709\u95ee\u9898\u53ef\u4ee5\u5728\u793e\u533a\u6216\uff31\uff31\u7fa4\u5185\u63d0\u95ee"], "Edit Attachments": ["\u7f16\u8f91\u9644\u4ef6"], "Cell": ["\u5355\u5143\u683c"], "Edit Metadata": ["\u7f16\u8f91\u5143\u6570\u636e"], "Custom": [""], "Set the MIME type of the raw cell:": ["\u8bbe\u7f6e\u539f\u751f\u5355\u5143\u683c\u7684MIME type"], "Raw Cell MIME Type": ["\u539f\u751f\u5355\u5143\u683c\u7684MIME type"], "Raw NBConvert Format": ["\u539f\u751fNBConvert\u683c\u683c\u5f0f"], "Raw Cell Format": ["\u539f\u751f\u5355\u5143\u683c\u683c\u5f0f"], "Slide": ["\u5e7b\u706f\u7247"], "Sub-Slide": ["\u5b50\u5e7b\u706f\u7247"], "Fragment": ["\u788e\u7247"], "Skip": ["\u8df3\u8fc7"], "Notes": ["\u7b14\u8bb0"], "Slide Type": ["\u7c7b\u578b"], "Slideshow": ["\u5e7b\u706f\u7247"], "Add tag": ["\u6dfb\u52a0\u6807\u7b7e"], "Edit the list of tags below. All whitespace is treated as tag separators.": ["\u7f16\u8f91\u4e0b\u9762\u7684\u6807\u7b7e\u5217\u8868(\u7a7a\u683c\u4f5c\u4e3a\u5206\u9694\u7b26)\u3002"], "Edit the tags": ["\u7f16\u8f91\u6807\u7b7e"], "Edit Tags": ["\u7f16\u8f91\u6807\u7b7e"], "Shutdown": ["\u5173\u95ed"], "Create a new notebook with %s": ["\u521b\u5efa\u65b0\u7684notebook %s"], "An error occurred while creating a new notebook.": ["\u5f53\u521b\u5efa\u65b0\u7684notebook\u7684\u65f6\u5019\u51fa\u73b0\u4e86\u4e00\u4e2a\u9519\u8bef\u3002"], "Creating File Failed": ["\u521b\u5efa\u6587\u4ef6\u5931\u8d25"], "An error occurred while creating a new file.": ["\u521b\u5efa\u65b0\u6587\u4ef6\u7684\u65f6\u5019\u51fa\u73b0\u4e86\u4e00\u4e2a\u9519\u8bef"], "Creating Folder Failed": ["\u521b\u5efa\u6587\u4ef6\u5939\u5931\u8d25"], "An error occurred while creating a new folder.": ["\u521b\u5efa\u65b0\u6587\u4ef6\u5939\u7684\u65f6\u5019\u51fa\u73b0\u4e86\u4e00\u4e2a\u9519\u8bef\u3002"], "Failed to read file": ["\u8bfb\u53d6\u6587\u4ef6\u5931\u8d25"], "Failed to read file %s": ["\u8bfb\u53d6\u4ee3\u7801\u6587\u4ef6 %s \u5931\u8d25."], "The file size is %d MB. Do you still want to upload it?": ["\u6587\u4ef6\u5927\u5c0f\u4e3a %d MB, \u786e\u5b9a\u8981\u4e0a\u4f20\u4e48?"], "Large file size warning": ["\u5927\u6587\u4ef6\u8b66\u544a..."], "Server error: ": ["\u670d\u52a1\u5668\u9519\u8bef:"], "The notebook list is empty.": ["notebook\u5217\u8868\u4e3a\u7a7a\uff0c\u8bf7\u6dfb\u52a0\u3002"], "Click here to rename, delete, etc.": ["\u70b9\u51fb\u8fd9\u91cc\u8fdb\u884c\u91cd\u547d\u540d\uff0c\u5220\u9664\u7b49\u64cd\u4f5c\u3002"], "Running": ["\u8fd0\u884c\u4e2d"], "Enter a new file name:": ["\u8bf7\u8f93\u5165\u65b0\u6587\u4ef6\u540d\uff1a"], "Enter a new directory name:": ["\u8bf7\u8f93\u5165\u65b0\u8def\u5f84\u540d\uff1a"], "Enter a new name:": ["\u8bf7\u8f93\u5165\u65b0\u540d\u5b57\uff1a"], "Rename file": ["\u91cd\u547d\u540d\u6587\u4ef6"], "Rename directory": ["\u91cd\u547d\u540d\u8def\u5f84"], "Rename notebook": ["\u91cd\u547d\u540dnotebook"], "Move": ["\u79fb\u52a8"], "An error occurred while renaming \"%1$s\" to \"%2$s\".": ["\u5f53\u628a \"%1$s\" \u91cd\u547d\u540d\u4e3a \"%2$s\" \u65f6\u51fa\u73b0\u9519\u8bef\u3002"], "Rename Failed": ["\u91cd\u547d\u540d\u5931\u8d25"], "Enter a new destination directory path for this item:": ["\u8f93\u5165\u8981\u79fb\u52a8\u5230\u7684\u65b0\u8def\u5f84\uff1a", "\u5c06\u79fb\u52a82\u4e2a\u9879\u76ee\uff0c\u8f93\u5165\u4e00\u4e2a\u65b0\u8def\u5f84\uff1a"], "Move an Item": ["\u79fb\u52a8\u4e00\u4e2a\u9879\u76ee", "\u79fb\u52a8%d\u4e2a\u9879\u76ee"], "An error occurred while moving \"%1$s\" from \"%2$s\" to \"%3$s\".": ["\u5f53\u628a \"%1$s\" \u4ece \"%2$s\" \u79fb\u52a8\u5230 \"%3$s\" \u65f6\u51fa\u73b0\u9519\u8bef\u3002"], "Move Failed": ["\u79fb\u52a8\u5931\u8d25"], "Are you sure you want to permanently delete: \"%s\"?": ["\u5220\u9664\u540e\u4e0d\u53ef\u6062\u590d\uff0c\u786e\u5b9a\u5220\u9664: \"%s\"\u5417\uff1f", "\u5220\u9664\u540e\u4e0d\u53ef\u6062\u590d\uff0c\u786e\u5b9a\u5220\u9664\u5df2\u9009\u62e9\u7684%d\u4e2a\u6587\u4ef6\u5417\uff1f"], "An error occurred while deleting \"%s\".": ["\u5220\u9664 \"%s\" \u51fa\u9519\u3002"], "Delete Failed": ["\u5220\u9664\u5931\u8d25"], "Are you sure you want to duplicate: \"%s\"?": ["\u786e\u5b9a\u590d\u5236\uff1a\"%s\"?", "\u786e\u5b9a\u590d\u5236\u5df2\u9009\u62e9\u7684%d\u4e2a\u6587\u4ef6?"], "Duplicate": ["\u590d\u5236"], "An error occurred while duplicating \"%s\".": ["\u590d\u5236\"%s\"\u51fa\u9519\u3002"], "Duplicate Failed": ["\u590d\u5236\u5931\u8d25"], "Upload": ["\u4e0a\u4f20"], "Invalid file name": ["\u65e0\u6548\u7684\u6587\u4ef6\u540d"], "File names must be at least one character and not start with a period": ["\u6587\u4ef6\u540d\u4e0d\u80fd\u4e3a\u7a7a,\u4e5f\u4e0d\u80fd\u4ee5\u53e5\u53f7\u5f00\u59cb"], "Cannot upload invalid Notebook": ["\u65e0\u6cd5\u4e0a\u4f20\u65e0\u6548\u7684Notebook"], "There is already a file named \"%s\". Do you want to replace it?": ["\u6587\u4ef6\u540d\u5df2\u7ecf\u5b58\u5728 \"%s\", \u66ff\u6362\u73b0\u6709\u6587\u4ef6?"], "Replace file": ["\u66ff\u6362\u6587\u4ef6"]}}};
    </script>

    
    

</head>

<body class="notebook_app "
 


  
 
data-base-url="/user/58871161842/"
data-ws-url=""
data-notebook-name="%E9%85%8D%E5%AF%B9%E4%BA%A4%E6%98%93%E7%AD%96%E7%95%A5.ipynb"
data-notebook-path="%E9%85%8D%E5%AF%B9%E4%BA%A4%E6%98%93%E7%AD%96%E7%95%A5.ipynb"

dir="ltr">

<noscript>
    <div id='noscript'>
      Jupyter Notebook需要的JavaScript.<br>
      请允许它执行.
  </div>
</noscript>

<div id="header">
  <div id="header-container" class="container">
  <div id="ipython_notebook" class="nav navbar-brand"><a href="/user/58871161842/tree" title='指示板'>
      
<img src='/hub/logo' alt='Jupyter Notebook'/>

  </a></div>

  


<span id="save_widget" class="save_widget">
    <span id="notebook_name" class="filename"></span>
    <span class="checkpoint_status"></span>
    <span class="autosave_status"></span>
</span>

<span id="kernel_logo_widget">
  
  <img class="current_kernel_logo" alt="Current Kernel Logo" src="data:image/gif;base64,R0lGODlhAQABAIAAAAAAAP///yH5BAEAAAAALAAAAAABAAEAAAIBRAA7"/>
  
</span>


  
  

  
  

    <span id="login_widget">
      
        <button id="logout" class="btn btn-sm navbar-btn">注销</button>
      
    </span>

  

  

<span>
    <a href='/hub/home'
       class='btn btn-default btn-sm navbar-btn pull-right'
       style='margin-right: 4px; margin-left: 2px;'>
        Control Panel
    </a>
</span>

  
  </div>
  <div class="header-bar"></div>

  
<div id="menubar-container" class="container">
<div id="menubar">
    <div id="menus" class="navbar navbar-default" role="navigation">
        <div class="container-fluid">
            <button type="button" class="btn btn-default navbar-btn navbar-toggle" data-toggle="collapse" data-target=".navbar-collapse">
              <i class="fa fa-bars"></i>
              <span class="navbar-text">菜单</span>
            </button>
            <p id="kernel_indicator" class="navbar-text indicator_area">
              <span class="kernel_indicator_name">内核</span>
              <i id="kernel_indicator_icon"></i>
            </p>
            <i id="readonly-indicator" class="navbar-text" title='该notebook是只读的'>
                <span class="fa-stack">
                    <i class="fa fa-save fa-stack-1x"></i>
                    <i class="fa fa-ban fa-stack-2x text-danger"></i>
                </span>
            </i>
            <i id="modal_indicator" class="navbar-text"></i>
            <span id="notification_area"></span>
            <div class="navbar-collapse collapse">
              <ul class="nav navbar-nav">
                <li class="dropdown"><a href="#" class="dropdown-toggle" data-toggle="dropdown">文件</a>
                    <ul id="file_menu" class="dropdown-menu">
                        <li id="new_notebook" class="dropdown-submenu">
                            <a href="#">新建notebook</a>
                            <ul class="dropdown-menu" id="menu-new-notebook-submenu"></ul>
                        </li>
                        <li id="open_notebook"
                            title="在新窗口打开指示板">
                            <a href="#">打开...</a></li>
                        <!-- <hr/> -->
                        <li class="divider"></li>
                        <li id="copy_notebook"
                            title="新建notebook的副本并用新内核打开">
                            <a href="#">复制...</a></li>
                        <li id="rename_notebook"><a href="#">重命名...</a></li>
                        <li id="save_checkpoint"><a href="#">保存</a></li>
                        <!-- <hr/> -->
                        <li class="divider"></li>
                        <li id="restore_checkpoint" class="dropdown-submenu"><a href="#">恢复</a>
                          <ul class="dropdown-menu">
                            <li><a href="#"></a></li>
                            <li><a href="#"></a></li>
                            <li><a href="#"></a></li>
                            <li><a href="#"></a></li>
                            <li><a href="#"></a></li>
                          </ul>
                        </li>
                        <li class="divider"></li>
                        <li id="print_preview"><a href="#">打印预览</a></li>
                        <li class="dropdown-submenu"><a href="#">下载</a>
                            <ul id="download_menu" class="dropdown-menu">
                                <li id="download_ipynb"><a href="#">Notebook(.ipynb)</a></li>
                                <li id="download_script"><a href="#">脚本</a></li>
                                <li id="download_html"><a href="#">HTML (.html)</a></li>
                                <li id="download_markdown"><a href="#">Markdown (.md)</a></li>
                                <li id="download_rst"><a href="#">reST (.rst)</a></li>
                                <li id="download_latex"><a href="#">LaTeX (.tex)</a></li>
                                <li id="download_pdf"><a href="#">PDF via LaTeX (.pdf)</a></li>
                            </ul>
                        </li>
                        <li class="dropdown-submenu hidden"><a href="#">部署在</a>
                            <ul id="deploy_menu" class="dropdown-menu"></ul>
                        </li>
                        <li class="divider"></li>
                        <li id="trust_notebook"
                            title="信任该notebook的输出">
                            <a href="#" >信任notebook</a></li>
                        <li class="divider"></li>
                        <li id="kill_and_exit"
                            title="关闭notebook服务并关闭窗口">
                            <a href="#" >关闭</a></li>
                    </ul>
                </li>
                <li class="dropdown"><a href="#" class="dropdown-toggle" data-toggle="dropdown">编辑</a>
                    <ul id="edit_menu" class="dropdown-menu">
                        <li id="cut_cell"><a href="#">剪切单元格</a></li>
                        <li id="copy_cell"><a href="#">复制单元格</a></li>
                        <li id="paste_cell_above" class="disabled"><a href="#">粘贴到上方</a></li>
                        <li id="paste_cell_below" class="disabled"><a href="#">粘贴到下方</a></li>
                        <li id="paste_cell_replace" class="disabled"><a href="#">粘贴单元格 &amp; 替换</a></li>
                        <li id="delete_cell"><a href="#">删除单元格</a></li>
                        <li id="undelete_cell" class="disabled"><a href="#">撤销删除</a></li>
                        <li class="divider"></li>
                        <li id="split_cell"><a href="#">分割单元格</a></li>
                        <li id="merge_cell_above"><a href="#">合并上方的单元格</a></li>
                        <li id="merge_cell_below"><a href="#">合并下方的单元格</a></li>
                        <li class="divider"></li>
                        <li id="move_cell_up"><a href="#">上移单元格</a></li>
                        <li id="move_cell_down"><a href="#">下移单元格</a></li>
                        <li class="divider"></li>
                        <li id="edit_nb_metadata"><a href="#">编辑notebook元数据</a></li>
                        <li class="divider"></li>
                        <li id="find_and_replace"><a href="#"> 查找并替换 </a></li>
                        <li class="divider"></li>
                        <li id="cut_cell_attachments"><a href="#">剪切附件</a></li>
                        <li id="copy_cell_attachments"><a href="#">复制附件</a></li>
                        <li id="paste_cell_attachments" class="disabled"><a href="#">粘贴附件</a></li>
                        <li class="divider"></li>
                        <li id="insert_image" class="disabled"><a href="#"> 插入图片 </a></li>
                    </ul>
                </li>
                <li class="dropdown"><a href="#" class="dropdown-toggle" data-toggle="dropdown">视图</a>
                    <ul id="view_menu" class="dropdown-menu">
                        <li id="toggle_header"
                            title="显示/隐藏 标题和logo">
                            <a href="#">开/关 文档头</a>
                        </li>
                        <li id="toggle_toolbar"
                            title="显示/隐藏 操作图标">
                            <a href="#">开/关 工具栏</a>
                        </li>
                        <li id="toggle_line_numbers"
                            title="显示/隐藏行号">
                            <a href="#">开/关 行号</a>
                        </li>
                        <li id="menu-cell-toolbar" class="dropdown-submenu">
                            <a href="#">单元格工具栏</a>
                            <ul class="dropdown-menu" id="menu-cell-toolbar-submenu"></ul>
                        </li>
                    </ul>
                </li>
                <li class="dropdown"><a href="#" class="dropdown-toggle" data-toggle="dropdown">插入</a>
                    <ul id="insert_menu" class="dropdown-menu">
                        <li id="insert_cell_above"
                            title="在当前活动单元格上方插入一个空的代码单元格">
                            <a href="#">在上方插入单元格</a></li>
                        <li id="insert_cell_below"
                            title="在当前活动单元下方插入一个空的代码单元格">
                            <a href="#">在下方插入单元格</a></li>
                    </ul>
                </li>
                <li class="dropdown"><a href="#" class="dropdown-toggle" data-toggle="dropdown">单元格</a>
                    <ul id="cell_menu" class="dropdown-menu">
                        <li id="run_cell" title="运行这个单元格，并将光标移到下一个">
                            <a href="#">运行所有单元格</a></li>
                        <li id="run_cell_select_below" title="运行单元格并自动选择下一个">
                            <a href="#">运行并选择下一个</a></li>
                        <li id="run_cell_insert_below" title="运行单元格并在下面插入新的单元格">
                            <a href="#">运行并在下方插入</a></li>
                        <li id="run_all_cells" title="运行所有的单元格">
                            <a href="#">运行所有</a></li>
                        <li id="run_all_cells_above" title="运行上方所有单元格(不包含被选中的)">
                            <a href="#">运行上面的单元格</a></li>
                        <li id="run_all_cells_below" title="运行当前及以下单元格">
                            <a href="#">运行下面的单元格</a></li>
                        <li class="divider"></li>
                        <li id="change_cell_type" class="dropdown-submenu"
                            title="notebook里的所有单元格都有一个类型. 默认情况下, 新创建的单元格为代码单元格">
                            <a href="#">单元格类型</a>
                            <ul class="dropdown-menu">
                              <li id="to_code"
                                  title="内容将被发送到内核执行, 输出将显示在单元格的页脚.">
                                  <a href="#">Code</a></li>
                              <li id="to_markdown"
                                  title="内容将以HTML形式呈现, 并作为解释性文本">
                                  <a href="#">Markdown</a></li>
                              <li id="to_raw"
                                  title="内容将通过nbconvert而不被修改">
                                  <a href="#">Raw NBConvert</a></li>
                            </ul>
                        </li>
                        <li class="divider"></li>
                        <li id="current_outputs" class="dropdown-submenu"><a href="#">当前输出</a>
                            <ul class="dropdown-menu">
                                <li id="toggle_current_output"
                                    title="隐藏/显示当前单元格输出">
                                    <a href="#">显示/隐藏 输出</a>
                                </li>
                                <li id="toggle_current_output_scroll"
                                    title="滚动当前单元格的输出">
                                    <a href="#">开/关 滚动输出</a>
                                </li>
                                <li id="clear_current_output"
                                    title="清除当前单元格的输出">
                                    <a href="#">清空输出</a>
                                </li>
                            </ul>
                        </li>
                        <li id="all_outputs" class="dropdown-submenu"><a href="#">所有输出</a>
                            <ul class="dropdown-menu">
                                <li id="toggle_all_output"
                                    title="隐藏/显示 所有单元格的输出">
                                    <a href="#">显示/隐藏 输出</a>
                                </li>
                                <li id="toggle_all_output_scroll"
                                    title="滚动所有单元格的输出">
                                    <a href="#">开/关 滚动输出</a>
                                </li>
                                <li id="clear_all_output"
                                    title="清空所有单元格的输出">
                                    <a href="#">清空输出</a>
                                </li>
                            </ul>
                        </li>
                    </ul>
                </li>
                <li class="dropdown"><a href="#" class="dropdown-toggle" data-toggle="dropdown">内核</a>
                    <ul id="kernel_menu" class="dropdown-menu">
                        <li id="int_kernel"
                            title="按下CTRL-C 中断内核">
                            <a href="#">中断</a>
                        </li>
                        <li id="restart_kernel"
                            title="重启内核">
                            <a href="#">重启</a>
                        </li>
                        <li id="restart_clear_output"
                            title="重启内核并清空所有输出">
                            <a href="#">重启并清空输出</a>
                        </li>
                        <li id="restart_run_all"
                            title="重启内核并且重新运行单元格">
                            <a href="#">重启并运行所有</a>
                        </li>
                        <li id="reconnect_kernel"
                            title="重新连接内核">
                            <a href="#">重新连接</a>
                        </li>
                        <li id="shutdown_kernel"
                            title="Shutdown the Kernel">
                            <a href="#">关闭</a>
                        </li>
                        <li class="divider"></li>
                        <li id="menu-change-kernel" class="dropdown-submenu">
                            <a href="#">更改内核</a>
                            <ul class="dropdown-menu" id="menu-change-kernel-submenu"></ul>
                        </li>
                    </ul>
                </li>
                <li class="dropdown"><a href="#" class="dropdown-toggle" data-toggle="dropdown">帮助</a>
                    <ul  id="help_menu" class="dropdown-menu">
                        
                        <li id="notebook_tour" title="快速notebook用户界面浏览"><a href="#">用户界面之旅</a></li>
                        <li id="keyboard_shortcuts" title="打开所有快捷键提示信息"><a href="#">快捷键</a></li>
                        <li id="edit_keyboard_shortcuts" title="打开对话框编辑快捷键"><a href="#">编辑快捷键</a></li>
                        <li class="divider"></li>
                        

						
                        
                            
                                <li><a rel="noreferrer" href="http://nbviewer.jupyter.org/github/ipython/ipython/blob/3.x/examples/Notebook/Index.ipynb" target="_blank" title="在新窗口打开">
                                
                                    <i class="fa fa-external-link menu-icon pull-right"></i>
                                

                                帮助
                                </a></li>
                            
                                <li><a rel="noreferrer" href="https://help.github.com/articles/markdown-basics/" target="_blank" title="在新窗口打开">
                                
                                    <i class="fa fa-external-link menu-icon pull-right"></i>
                                

                                Markdown
                                </a></li>
                            
                            
                        
                        <li class="divider"></li>
                        <li title="关于本程序"><a id="notebook_about" href="#">关于</a></li>
                        
                    </ul>
                </li>
              </ul>
            </div>
        </div>
    </div>
</div>

<div id="maintoolbar" class="navbar">
  <div class="toolbar-inner navbar-inner navbar-nobg">
    <div id="maintoolbar-container" class="container"></div>
  </div>
</div>
</div>

<div class="lower-header-bar"></div>

</div>

<div id="site">


<div id="ipython-main-app">
    <div id="notebook_panel">
        <div id="notebook"></div>
        <div id='tooltip' class='ipython_tooltip' style='display:none'></div>
    </div>
</div>



</div>



<div id="pager">
    <div id="pager-contents">
        <div id="pager-container" class="container"></div>
    </div>
    <div id='pager-button-area'></div>
</div>






<script type="text/javascript">
    sys_info = {"notebook_version": "5.4.1", "notebook_path": "/opt/conda/envs/python3new/lib/python3.6/site-packages/notebook", "commit_source": "", "commit_hash": "", "sys_version": "3.6.3 |Anaconda, Inc.| (default, Nov  3 2017, 19:19:16) \n[GCC 7.2.0]", "sys_executable": "/opt/conda/envs/python3new/bin/python", "sys_platform": "linux", "platform": "Linux-4.15.7-041507-generic-x86_64-with-debian-stretch-sid", "os_name": "posix", "default_encoding": "UTF-8"};
</script>

<script src="https://cdn.joinquant.com/research/static/components/text-encoding/lib/encoding.js?v=d5bb0fc9ffeff7d98a69bb83daa51052" charset="utf-8"></script>

<script src="https://cdn.joinquant.com/research/static/notebook/js/main.min.js?v=0f9adbfa5920b7be6e5b9f787a42e84c" type="text/javascript" charset="utf-8"></script>



<script type='text/javascript'>
  function _remove_token_from_url() {
    if (window.location.search.length <= 1) {
      return;
    }
    var search_parameters = window.location.search.slice(1).split('&');
    for (var i = 0; i < search_parameters.length; i++) {
      if (search_parameters[i].split('=')[0] === 'token') {
        // remote token from search parameters
        search_parameters.splice(i, 1);
        var new_search = '';
        if (search_parameters.length) {
          new_search = '?' + search_parameters.join('&');
        }
        var new_url = window.location.origin + 
                      window.location.pathname + 
                      new_search + 
                      window.location.hash;
        window.history.replaceState({}, "", new_url);
        return;
      }
    }
  }
  _remove_token_from_url();
</script>
</body>

</html>